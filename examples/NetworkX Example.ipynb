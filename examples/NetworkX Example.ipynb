{
 "cells": [
  {
   "cell_type": "code",
   "execution_count": 1,
   "metadata": {},
   "outputs": [],
   "source": [
    "import ipycytoscape\n",
    "import ipywidgets as widgets\n",
    "import networkx as nx\n"
   ]
  },
  {
   "cell_type": "markdown",
   "metadata": {},
   "source": [
    "# Undirected graph"
   ]
  },
  {
   "cell_type": "code",
   "execution_count": 2,
   "metadata": {},
   "outputs": [
    {
     "data": {
      "application/vnd.jupyter.widget-view+json": {
       "model_id": "a6509bb452834625b048454c9ab2525a",
       "version_major": 2,
       "version_minor": 0
      },
      "text/plain": [
       "CytoscapeWidget(cytoscape_layout={'name': 'cola'}, cytoscape_style=[{'selector': 'node', 'css': {'background-c…"
      ]
     },
     "metadata": {},
     "output_type": "display_data"
    }
   ],
   "source": [
    "G = nx.complete_graph(5)\n",
    "undirected = ipycytoscape.CytoscapeWidget()\n",
    "undirected.graph.add_graph_from_networkx(G)\n",
    "undirected"
   ]
  },
  {
   "cell_type": "markdown",
   "metadata": {},
   "source": [
    "### You can also add more nodes \n",
    "\n",
    "The above graph should update when you run the next cell"
   ]
  },
  {
   "cell_type": "code",
   "execution_count": 3,
   "metadata": {},
   "outputs": [],
   "source": [
    "G2 = nx.Graph()\n",
    "G2.add_node('separate node 1')\n",
    "G2.add_node('separate node 2')\n",
    "G2.add_edge('separate node 1', 'separate node 2')\n",
    "undirected.graph.add_graph_from_networkx(G2)\n"
   ]
  },
  {
   "cell_type": "markdown",
   "metadata": {},
   "source": [
    "# Fully directed graphs\n",
    "\n",
    "`add_graph_from_networkx` takes an argument `directed` that if True will ensure all edges given the directed class, which will style them with an arrow."
   ]
  },
  {
   "cell_type": "code",
   "execution_count": 4,
   "metadata": {},
   "outputs": [
    {
     "data": {
      "application/vnd.jupyter.widget-view+json": {
       "model_id": "d131e445af9c4e0886a17d8feb7e0606",
       "version_major": 2,
       "version_minor": 0
      },
      "text/plain": [
       "CytoscapeWidget(cytoscape_layout={'name': 'cola'}, cytoscape_style=[{'selector': 'node', 'css': {'background-c…"
      ]
     },
     "metadata": {},
     "output_type": "display_data"
    }
   ],
   "source": [
    "G = nx.complete_graph(5)\n",
    "directed = ipycytoscape.CytoscapeWidget()\n",
    "directed.graph.add_graph_from_networkx(G, directed=True)\n",
    "directed"
   ]
  },
  {
   "cell_type": "markdown",
   "metadata": {},
   "source": [
    "# Mixed graphs\n",
    "\n",
    "You can also make graphs with both directed and undirected edges by adding 'directed' to the 'classes' attribute of the edge data"
   ]
  },
  {
   "cell_type": "code",
   "execution_count": 5,
   "metadata": {},
   "outputs": [],
   "source": [
    "from random import random"
   ]
  },
  {
   "cell_type": "code",
   "execution_count": 6,
   "metadata": {},
   "outputs": [
    {
     "data": {
      "application/vnd.jupyter.widget-view+json": {
       "model_id": "711e649c27c64d9ba4e7724a6cde5b8f",
       "version_major": 2,
       "version_minor": 0
      },
      "text/plain": [
       "CytoscapeWidget(cytoscape_layout={'name': 'cola'}, cytoscape_style=[{'selector': 'node', 'css': {'background-c…"
      ]
     },
     "metadata": {},
     "output_type": "display_data"
    }
   ],
   "source": [
    "G = nx.complete_graph(5)\n",
    "for s, t, data in G.edges(data=True):\n",
    "    if random() > .5:\n",
    "        G[s][t]['classes'] = 'directed'\n",
    "\n",
    "mixed = ipycytoscape.CytoscapeWidget()\n",
    "mixed.graph.add_graph_from_networkx(G)\n",
    "mixed"
   ]
  },
  {
   "cell_type": "markdown",
   "metadata": {},
   "source": [
    "# Test Other Node Types\n",
    "\n",
    "### Tuples\n"
   ]
  },
  {
   "cell_type": "code",
   "execution_count": 7,
   "metadata": {},
   "outputs": [
    {
     "data": {
      "application/vnd.jupyter.widget-view+json": {
       "model_id": "27fb2ee86b574a8ba28eb680475a40c4",
       "version_major": 2,
       "version_minor": 0
      },
      "text/plain": [
       "CytoscapeWidget(cytoscape_layout={'name': 'cola'}, cytoscape_style=[{'selector': 'node', 'css': {'background-c…"
      ]
     },
     "metadata": {},
     "output_type": "display_data"
    }
   ],
   "source": [
    "\n",
    "\n",
    "\n",
    "\n",
    "tuple_nx = nx.Graph()\n",
    "\n",
    "tuple_nx.add_node((0, 1))\n",
    "tuple_nx.add_node((0,2))\n",
    "tuple_nx.add_edge((0,1), (0,2))\n",
    "# nx.draw(tuple_nx)\n",
    "tuple_cyto = ipycytoscape.CytoscapeWidget()\n",
    "tuple_cyto.graph.add_graph_from_networkx(tuple_nx)\n",
    "tuple_cyto"
   ]
  },
  {
   "cell_type": "markdown",
   "metadata": {},
   "source": [
    "## Frozenset\n"
   ]
  },
  {
   "cell_type": "code",
   "execution_count": 8,
   "metadata": {},
   "outputs": [
    {
     "data": {
      "application/vnd.jupyter.widget-view+json": {
       "model_id": "41b0164947764589bf408c73b6cf4ebe",
       "version_major": 2,
       "version_minor": 0
      },
      "text/plain": [
       "CytoscapeWidget(cytoscape_layout={'name': 'cola'}, cytoscape_style=[{'selector': 'node', 'css': {'background-c…"
      ]
     },
     "metadata": {},
     "output_type": "display_data"
    }
   ],
   "source": [
    "frozen_nx = nx.Graph()\n",
    "frozen_nx.add_node(frozenset((0, 1)))\n",
    "frozen_nx.add_node(frozenset((0, 2)))\n",
    "frozen_nx.add_edge(frozenset((0,1)), frozenset((0,2)))\n",
    "\n",
    "frozen_cyto = ipycytoscape.CytoscapeWidget()\n",
    "frozen_cyto.graph.add_graph_from_networkx(frozen_nx)\n",
    "frozen_cyto"
   ]
  },
  {
   "cell_type": "markdown",
   "metadata": {},
   "source": [
    "## Custom Class"
   ]
  },
  {
   "cell_type": "code",
   "execution_count": 9,
   "metadata": {},
   "outputs": [
    {
     "data": {
      "application/vnd.jupyter.widget-view+json": {
       "model_id": "9cad8f88e60947918a6427b376113dc6",
       "version_major": 2,
       "version_minor": 0
      },
      "text/plain": [
       "CytoscapeWidget(cytoscape_layout={'name': 'cola'}, cytoscape_style=[{'selector': 'node', 'css': {'background-c…"
      ]
     },
     "metadata": {},
     "output_type": "display_data"
    }
   ],
   "source": [
    "\n",
    "class Node:\n",
    "    def __init__(self, name):\n",
    "        self.name = name\n",
    "\n",
    "n1 = Node(\"node 1\")\n",
    "n2 = Node(\"node 2\")\n",
    "        \n",
    "G = nx.Graph()\n",
    "\n",
    "G.add_node(n1)\n",
    "G.add_node(n2)\n",
    "\n",
    "G.add_edge(n1, n2)\n",
    "\n",
    "undirected = ipycytoscape.CytoscapeWidget()\n",
    "undirected.graph.add_graph_from_networkx(G)\n",
    "undirected"
   ]
  },
  {
   "cell_type": "markdown",
   "metadata": {},
   "source": [
    "## Custom Class that inherits from Node\n"
   ]
  },
  {
   "cell_type": "code",
   "execution_count": 10,
   "metadata": {},
   "outputs": [
    {
     "data": {
      "application/vnd.jupyter.widget-view+json": {
       "model_id": "0286b8603ff8430086c8cc35e1d914dc",
       "version_major": 2,
       "version_minor": 0
      },
      "text/plain": [
       "CytoscapeWidget(cytoscape_layout={'name': 'cola'}, cytoscape_style=[{'selector': 'node', 'css': {'background-c…"
      ]
     },
     "metadata": {},
     "output_type": "display_data"
    }
   ],
   "source": [
    "\n",
    "class CustomNode(ipycytoscape.Node):\n",
    "    def __init__(self, name, classes=''):\n",
    "        super().__init__()\n",
    "        self.data['id'] = name\n",
    "        self.classes = classes\n",
    "\n",
    "n1 = CustomNode(\"node 1\")\n",
    "n2 = CustomNode(\"node 2\")\n",
    "        \n",
    "G = nx.Graph()\n",
    "\n",
    "G.add_node(n1)\n",
    "G.add_node(n2)\n",
    "\n",
    "G.add_edge(n1, n2)\n",
    "\n",
    "undirected = ipycytoscape.CytoscapeWidget()\n",
    "undirected.graph.add_graph_from_networkx(G)\n",
    "undirected"
   ]
  },
  {
   "cell_type": "code",
   "execution_count": null,
   "metadata": {},
   "outputs": [],
   "source": []
  }
 ],
 "metadata": {
  "kernelspec": {
   "display_name": "Python 3",
   "language": "python",
   "name": "python3"
  },
  "language_info": {
   "codemirror_mode": {
    "name": "ipython",
    "version": 3
   },
   "file_extension": ".py",
   "mimetype": "text/x-python",
   "name": "python",
   "nbconvert_exporter": "python",
   "pygments_lexer": "ipython3",
   "version": "3.8.2"
  },
  "widgets": {
   "application/vnd.jupyter.widget-state+json": {
    "state": {
     "00223eb503844127a207203c900f1b17": {
      "model_module": "jupyter-cytoscape",
      "model_module_version": "^1.0.2",
      "model_name": "NodeModel",
      "state": {
       "_model_module_version": "^1.0.2",
       "_view_module_version": "^1.0.2",
       "data": {
        "id": "2"
       }
      }
     },
     "0286b8603ff8430086c8cc35e1d914dc": {
      "model_module": "jupyter-cytoscape",
      "model_module_version": "^1.0.2",
      "model_name": "CytoscapeModel",
      "state": {
       "_interaction_handlers": {},
       "_model_module_version": "^1.0.2",
       "_view_module_version": "^1.0.2",
       "auto_ungrabify": false,
       "autolock": false,
       "cytoscape_layout": {
        "name": "cola"
       },
       "cytoscape_style": [
        {
         "css": {
          "background-color": "#11479e"
         },
         "selector": "node"
        },
        {
         "css": {
          "background-opacity": 0.333
         },
         "selector": "node:parent"
        },
        {
         "selector": "edge",
         "style": {
          "line-color": "#9dbaea",
          "width": 4
         }
        },
        {
         "selector": "edge.directed",
         "style": {
          "curve-style": "bezier",
          "target-arrow-color": "#9dbaea",
          "target-arrow-shape": "triangle"
         }
        }
       ],
       "desktop_tap_threshold": 4,
       "graph": "IPY_MODEL_e885cb3c059a4fc5b39fb9527d13288c",
       "headless": false,
       "hide_edges_on_viewport": false,
       "layout": "IPY_MODEL_08c435d495a0476c81cf692fb384f999",
       "max_zoom": 1e+50,
       "min_zoom": 1e-50,
       "motion_blur": false,
       "motion_blur_opacity": 0.2,
       "panning_enabled": true,
       "pixel_ratio": "auto",
       "rendered_position": {
        "renderedPosition": {
         "x": 100,
         "y": 100
        }
       },
       "selection_type": "single",
       "style_enabled": true,
       "texture_on_viewport": false,
       "tooltip_source": "tooltip",
       "touch_tap_threshold": 8,
       "user_panning_enabled": true,
       "user_zooming_enabled": true,
       "wheel_sensitivity": 1,
       "zoom": 2,
       "zooming_enabled": true
      }
     },
     "06f5a905fcc743dd935aef428381c530": {
      "model_module": "jupyter-cytoscape",
      "model_module_version": "^1.0.2",
      "model_name": "NodeModel",
      "state": {
       "_model_module_version": "^1.0.2",
       "_view_module_version": "^1.0.2",
       "data": {
        "id": "3"
       }
      }
     },
     "08c435d495a0476c81cf692fb384f999": {
      "model_module": "@jupyter-widgets/base",
      "model_module_version": "1.2.0",
      "model_name": "LayoutModel",
      "state": {}
     },
     "1542e717117e461982e253d55e70a99f": {
      "model_module": "jupyter-cytoscape",
      "model_module_version": "^1.0.2",
      "model_name": "NodeModel",
      "state": {
       "_model_module_version": "^1.0.2",
       "_view_module_version": "^1.0.2",
       "data": {
        "id": "separate node 1"
       },
       "position": {
        "x": 490.2061370934634,
        "y": 277.92616753767606
       }
      }
     },
     "15ae309bca2443bdaa433ff034410e58": {
      "model_module": "jupyter-cytoscape",
      "model_module_version": "^1.0.2",
      "model_name": "NodeModel",
      "state": {
       "_model_module_version": "^1.0.2",
       "_view_module_version": "^1.0.2",
       "data": {
        "id": "0"
       }
      }
     },
     "1a207e68b597419dbee4d88c8aeaf31f": {
      "model_module": "jupyter-cytoscape",
      "model_module_version": "^1.0.2",
      "model_name": "EdgeModel",
      "state": {
       "_model_module_version": "^1.0.2",
       "_view_module_version": "^1.0.2",
       "classes": " directed ",
       "data": {
        "source": "0",
        "target": "4"
       }
      }
     },
     "1a8ca263dd174ca1ac1d576d8bd1d7ec": {
      "model_module": "jupyter-cytoscape",
      "model_module_version": "^1.0.2",
      "model_name": "NodeModel",
      "state": {
       "_model_module_version": "^1.0.2",
       "_view_module_version": "^1.0.2",
       "data": {
        "id": "node 2"
       },
       "position": {
        "x": 457.95259474512005,
        "y": 213.7699496104954
       }
      }
     },
     "1b02697cba92414b92f418e20da40ade": {
      "model_module": "jupyter-cytoscape",
      "model_module_version": "^1.0.2",
      "model_name": "EdgeModel",
      "state": {
       "_model_module_version": "^1.0.2",
       "_view_module_version": "^1.0.2",
       "data": {
        "id": "86c9b136-e1e6-43d4-a978-ee2efe6098f2",
        "source": "0",
        "target": "4"
       },
       "position": {
        "x": 0,
        "y": 0
       }
      }
     },
     "1b0aab73754b41bc9091a5f86a09df8a": {
      "model_module": "jupyter-cytoscape",
      "model_module_version": "^1.0.2",
      "model_name": "NodeModel",
      "state": {
       "_model_module_version": "^1.0.2",
       "_view_module_version": "^1.0.2",
       "data": {
        "id": "1"
       }
      }
     },
     "1c403ca0bca3415bb450ff53bbd557d2": {
      "model_module": "jupyter-cytoscape",
      "model_module_version": "^1.0.2",
      "model_name": "GraphModel",
      "state": {
       "_model_module_version": "^1.0.2",
       "_view_module": "jupyter-cytoscape",
       "_view_module_version": "^1.0.2",
       "edges": [
        "IPY_MODEL_3a3c845b6e494c5fb9ea20f8e3e11d8f"
       ],
       "nodes": [
        "IPY_MODEL_6acfdb0cbffa4ba6b802e39cc147a662",
        "IPY_MODEL_9ebe6648e867468ca97bc578ce984294"
       ]
      }
     },
     "1cde27e09aba4532a2cd61d20cbbfb38": {
      "model_module": "jupyter-cytoscape",
      "model_module_version": "^1.0.2",
      "model_name": "GraphModel",
      "state": {
       "_model_module_version": "^1.0.2",
       "_view_module": "jupyter-cytoscape",
       "_view_module_version": "^1.0.2"
      }
     },
     "1e07a7572ce64f838bba29cf4eedc5c9": {
      "model_module": "jupyter-cytoscape",
      "model_module_version": "^1.0.2",
      "model_name": "EdgeModel",
      "state": {
       "_model_module_version": "^1.0.2",
       "_view_module_version": "^1.0.2",
       "data": {
        "source": "0",
        "target": "3"
       }
      }
     },
     "27fb2ee86b574a8ba28eb680475a40c4": {
      "model_module": "jupyter-cytoscape",
      "model_module_version": "^1.0.2",
      "model_name": "CytoscapeModel",
      "state": {
       "_interaction_handlers": {},
       "_model_module_version": "^1.0.2",
       "_view_module_version": "^1.0.2",
       "auto_ungrabify": false,
       "autolock": false,
       "cytoscape_layout": {
        "name": "cola"
       },
       "cytoscape_style": [
        {
         "css": {
          "background-color": "#11479e"
         },
         "selector": "node"
        },
        {
         "css": {
          "background-opacity": 0.333
         },
         "selector": "node:parent"
        },
        {
         "selector": "edge",
         "style": {
          "line-color": "#9dbaea",
          "width": 4
         }
        },
        {
         "selector": "edge.directed",
         "style": {
          "curve-style": "bezier",
          "target-arrow-color": "#9dbaea",
          "target-arrow-shape": "triangle"
         }
        }
       ],
       "desktop_tap_threshold": 4,
       "graph": "IPY_MODEL_46f6b0c917ba4664ac3de997b581f611",
       "headless": false,
       "hide_edges_on_viewport": false,
       "layout": "IPY_MODEL_c6270aea83d444b6b70b400e75cb2f77",
       "max_zoom": 1e+50,
       "min_zoom": 1e-50,
       "motion_blur": false,
       "motion_blur_opacity": 0.2,
       "panning_enabled": true,
       "pixel_ratio": "auto",
       "rendered_position": {
        "renderedPosition": {
         "x": 100,
         "y": 100
        }
       },
       "selection_type": "single",
       "style_enabled": true,
       "texture_on_viewport": false,
       "tooltip_source": "tooltip",
       "touch_tap_threshold": 8,
       "user_panning_enabled": true,
       "user_zooming_enabled": true,
       "wheel_sensitivity": 1,
       "zoom": 2,
       "zooming_enabled": true
      }
     },
     "2b41c171c69d44f69f9d350498df2673": {
      "model_module": "jupyter-cytoscape",
      "model_module_version": "^1.0.2",
      "model_name": "NodeModel",
      "state": {
       "_model_module_version": "^1.0.2",
       "_view_module_version": "^1.0.2",
       "data": {
        "id": "1"
       }
      }
     },
     "2f4bafd2b2604468a7ff91dc602c8e26": {
      "model_module": "jupyter-cytoscape",
      "model_module_version": "^1.0.2",
      "model_name": "EdgeModel",
      "state": {
       "_model_module_version": "^1.0.2",
       "_view_module_version": "^1.0.2",
       "classes": " directed ",
       "data": {
        "source": "0",
        "target": "3"
       }
      }
     },
     "3727db7d759941e8ad172d9546f4e540": {
      "model_module": "jupyter-cytoscape",
      "model_module_version": "^1.0.2",
      "model_name": "EdgeModel",
      "state": {
       "_model_module_version": "^1.0.2",
       "_view_module_version": "^1.0.2",
       "classes": "directed",
       "data": {
        "source": "0",
        "target": "4"
       }
      }
     },
     "3766bd1b4aa042c9b4174a3b10777c43": {
      "model_module": "jupyter-cytoscape",
      "model_module_version": "^1.0.2",
      "model_name": "GraphModel",
      "state": {
       "_model_module_version": "^1.0.2",
       "_view_module": "jupyter-cytoscape",
       "_view_module_version": "^1.0.2"
      }
     },
     "3871b971b3dd4ffbaf53432b141c2cb4": {
      "model_module": "jupyter-cytoscape",
      "model_module_version": "^1.0.2",
      "model_name": "EdgeModel",
      "state": {
       "_model_module_version": "^1.0.2",
       "_view_module_version": "^1.0.2",
       "data": {
        "id": "aba4d18e-3580-49d1-aca7-39b35dc4870e",
        "source": "0",
        "target": "2"
       },
       "position": {
        "x": 0,
        "y": 0
       }
      }
     },
     "38919614adc14326b3c8751e28a7faa9": {
      "model_module": "jupyter-cytoscape",
      "model_module_version": "^1.0.2",
      "model_name": "NodeModel",
      "state": {
       "_model_module_version": "^1.0.2",
       "_view_module_version": "^1.0.2",
       "data": {
        "id": "3"
       }
      }
     },
     "38cb3d52666d4411835af3a6f53dcea7": {
      "model_module": "jupyter-cytoscape",
      "model_module_version": "^1.0.2",
      "model_name": "EdgeModel",
      "state": {
       "_model_module_version": "^1.0.2",
       "_view_module_version": "^1.0.2",
       "classes": " directed ",
       "data": {
        "source": "0",
        "target": "1"
       }
      }
     },
     "3a3c845b6e494c5fb9ea20f8e3e11d8f": {
      "model_module": "jupyter-cytoscape",
      "model_module_version": "^1.0.2",
      "model_name": "EdgeModel",
      "state": {
       "_model_module_version": "^1.0.2",
       "_view_module_version": "^1.0.2",
       "data": {
        "id": "d728c9ce-e9b2-4d2d-90a8-ae24cdc02a0e",
        "source": "<__main__.Node object at 0x7f7ee6a786d0>",
        "target": "<__main__.Node object at 0x7f7ee6a784f0>"
       },
       "position": {
        "x": 0,
        "y": 0
       }
      }
     },
     "3c40f619a9bf4f84bbc17c16df9c8132": {
      "model_module": "jupyter-cytoscape",
      "model_module_version": "^1.0.2",
      "model_name": "GraphModel",
      "state": {
       "_model_module_version": "^1.0.2",
       "_view_module": "jupyter-cytoscape",
       "_view_module_version": "^1.0.2"
      }
     },
     "410b8e83c0844691b82c4dc6b4c6dd4e": {
      "model_module": "jupyter-cytoscape",
      "model_module_version": "^1.0.2",
      "model_name": "NodeModel",
      "state": {
       "_model_module_version": "^1.0.2",
       "_view_module_version": "^1.0.2",
       "data": {
        "id": "1"
       },
       "position": {
        "x": 503.7235110312358,
        "y": 139.03796755520455
       }
      }
     },
     "4134fae2a29d4902bc6c9f5c27da49e0": {
      "model_module": "jupyter-cytoscape",
      "model_module_version": "^1.0.2",
      "model_name": "NodeModel",
      "state": {
       "_model_module_version": "^1.0.2",
       "_view_module_version": "^1.0.2",
       "data": {
        "id": "node 1"
       },
       "position": {
        "x": 557,
        "y": 200
       }
      }
     },
     "41b0164947764589bf408c73b6cf4ebe": {
      "model_module": "jupyter-cytoscape",
      "model_module_version": "^1.0.2",
      "model_name": "CytoscapeModel",
      "state": {
       "_interaction_handlers": {},
       "_model_module_version": "^1.0.2",
       "_view_module_version": "^1.0.2",
       "auto_ungrabify": false,
       "autolock": false,
       "cytoscape_layout": {
        "name": "cola"
       },
       "cytoscape_style": [
        {
         "css": {
          "background-color": "#11479e"
         },
         "selector": "node"
        },
        {
         "css": {
          "background-opacity": 0.333
         },
         "selector": "node:parent"
        },
        {
         "selector": "edge",
         "style": {
          "line-color": "#9dbaea",
          "width": 4
         }
        },
        {
         "selector": "edge.directed",
         "style": {
          "curve-style": "bezier",
          "target-arrow-color": "#9dbaea",
          "target-arrow-shape": "triangle"
         }
        }
       ],
       "desktop_tap_threshold": 4,
       "graph": "IPY_MODEL_427782a04df34df091aa08121b204d9a",
       "headless": false,
       "hide_edges_on_viewport": false,
       "layout": "IPY_MODEL_f68701ed841246f3a1c4bd32adf0b2de",
       "max_zoom": 1e+50,
       "min_zoom": 1e-50,
       "motion_blur": false,
       "motion_blur_opacity": 0.2,
       "panning_enabled": true,
       "pixel_ratio": "auto",
       "rendered_position": {
        "renderedPosition": {
         "x": 100,
         "y": 100
        }
       },
       "selection_type": "single",
       "style_enabled": true,
       "texture_on_viewport": false,
       "tooltip_source": "tooltip",
       "touch_tap_threshold": 8,
       "user_panning_enabled": true,
       "user_zooming_enabled": true,
       "wheel_sensitivity": 1,
       "zoom": 2,
       "zooming_enabled": true
      }
     },
     "427782a04df34df091aa08121b204d9a": {
      "model_module": "jupyter-cytoscape",
      "model_module_version": "^1.0.2",
      "model_name": "GraphModel",
      "state": {
       "_model_module_version": "^1.0.2",
       "_view_module": "jupyter-cytoscape",
       "_view_module_version": "^1.0.2",
       "edges": [
        "IPY_MODEL_654f09ab1e30475ab8412c30b4f11eb7"
       ],
       "nodes": [
        "IPY_MODEL_fab72705ffdb442da6a58fca10762cc1",
        "IPY_MODEL_8975b15f729a4cd7b06cfc3b4c79ea88"
       ]
      }
     },
     "4405df8c6f94461292a64f2958f7c726": {
      "model_module": "jupyter-cytoscape",
      "model_module_version": "^1.0.2",
      "model_name": "EdgeModel",
      "state": {
       "_model_module_version": "^1.0.2",
       "_view_module_version": "^1.0.2",
       "classes": " directed ",
       "data": {
        "source": "3",
        "target": "4"
       }
      }
     },
     "44636d2dfa0d43d099765919433ca5b1": {
      "model_module": "jupyter-cytoscape",
      "model_module_version": "^1.0.2",
      "model_name": "NodeModel",
      "state": {
       "_model_module_version": "^1.0.2",
       "_view_module_version": "^1.0.2",
       "data": {
        "id": "4"
       }
      }
     },
     "458928af152f4de29415ddcb7d742062": {
      "model_module": "jupyter-cytoscape",
      "model_module_version": "^1.0.2",
      "model_name": "GraphModel",
      "state": {
       "_model_module_version": "^1.0.2",
       "_view_module": "jupyter-cytoscape",
       "_view_module_version": "^1.0.2"
      }
     },
     "46f6b0c917ba4664ac3de997b581f611": {
      "model_module": "jupyter-cytoscape",
      "model_module_version": "^1.0.2",
      "model_name": "GraphModel",
      "state": {
       "_model_module_version": "^1.0.2",
       "_view_module": "jupyter-cytoscape",
       "_view_module_version": "^1.0.2",
       "edges": [
        "IPY_MODEL_e7c485037f7443d1a390c8846593c1bf"
       ],
       "nodes": [
        "IPY_MODEL_7ad3487b5f944aa6b133827a2a307efb",
        "IPY_MODEL_d64d52ec81b547068f12f94608bc7373"
       ]
      }
     },
     "4a272d357eaf4bb58b36dc5964401904": {
      "model_module": "jupyter-cytoscape",
      "model_module_version": "^1.0.2",
      "model_name": "NodeModel",
      "state": {
       "_model_module_version": "^1.0.2",
       "_view_module_version": "^1.0.2",
       "data": {
        "id": "2"
       }
      }
     },
     "4c6600fdb5e94037b6dd70cbe3ba32d8": {
      "model_module": "jupyter-cytoscape",
      "model_module_version": "^1.0.2",
      "model_name": "NodeModel",
      "state": {
       "_model_module_version": "^1.0.2",
       "_view_module_version": "^1.0.2",
       "data": {
        "id": "3"
       },
       "position": {
        "x": 618.292540159137,
        "y": 163.6792724619169
       }
      }
     },
     "4dbd3ed1582e4254acb67718f06819bc": {
      "model_module": "jupyter-cytoscape",
      "model_module_version": "^1.0.2",
      "model_name": "EdgeModel",
      "state": {
       "_model_module_version": "^1.0.2",
       "_view_module_version": "^1.0.2",
       "classes": "directed",
       "data": {
        "source": "1",
        "target": "2"
       }
      }
     },
     "50cca0b063324e46b5ab70013d46c493": {
      "model_module": "jupyter-cytoscape",
      "model_module_version": "^1.0.2",
      "model_name": "EdgeModel",
      "state": {
       "_model_module_version": "^1.0.2",
       "_view_module_version": "^1.0.2",
       "data": {
        "id": "9c93e30e-04bc-472d-ba63-40e8348ce10b",
        "source": "3",
        "target": "4"
       },
       "position": {
        "x": 0,
        "y": 0
       }
      }
     },
     "539805cb430f4be5bb81924ac58e333d": {
      "model_module": "@jupyter-widgets/base",
      "model_module_version": "1.2.0",
      "model_name": "LayoutModel",
      "state": {}
     },
     "586824c75cd345e99d6ee96fda21bf81": {
      "model_module": "jupyter-cytoscape",
      "model_module_version": "^1.0.2",
      "model_name": "NodeModel",
      "state": {
       "_model_module_version": "^1.0.2",
       "_view_module_version": "^1.0.2",
       "data": {
        "id": "0"
       },
       "position": {
        "x": 569.9219494455236,
        "y": 109.92320679841215
       }
      }
     },
     "591f8abd1b5a476b9a720356bb1f7aca": {
      "model_module": "jupyter-cytoscape",
      "model_module_version": "^1.0.2",
      "model_name": "EdgeModel",
      "state": {
       "_model_module_version": "^1.0.2",
       "_view_module_version": "^1.0.2",
       "data": {
        "source": "2",
        "target": "3"
       }
      }
     },
     "5eadaa34ae9d4aa1bbb1b4f6aa1d8634": {
      "model_module": "jupyter-cytoscape",
      "model_module_version": "^1.0.2",
      "model_name": "EdgeModel",
      "state": {
       "_model_module_version": "^1.0.2",
       "_view_module_version": "^1.0.2",
       "classes": "directed",
       "data": {
        "source": "1",
        "target": "4"
       }
      }
     },
     "613f54201b6c49d09c80bb8d9ccd3a64": {
      "model_module": "jupyter-cytoscape",
      "model_module_version": "^1.0.2",
      "model_name": "EdgeModel",
      "state": {
       "_model_module_version": "^1.0.2",
       "_view_module_version": "^1.0.2",
       "data": {
        "id": "b510a2d5-d3ab-4c4c-ba17-5bbcc7d13ebe",
        "source": "2",
        "target": "3"
       },
       "position": {
        "x": 0,
        "y": 0
       }
      }
     },
     "654f09ab1e30475ab8412c30b4f11eb7": {
      "model_module": "jupyter-cytoscape",
      "model_module_version": "^1.0.2",
      "model_name": "EdgeModel",
      "state": {
       "_model_module_version": "^1.0.2",
       "_view_module_version": "^1.0.2",
       "data": {
        "id": "9f99476a-e2aa-4017-9c22-bd2cc69bc301",
        "source": "frozenset({0, 1})",
        "target": "frozenset({0, 2})"
       },
       "position": {
        "x": 0,
        "y": 0
       }
      }
     },
     "6ab2faf24b2146609b5ad91f2c2cccc4": {
      "model_module": "jupyter-cytoscape",
      "model_module_version": "^1.0.2",
      "model_name": "NodeModel",
      "state": {
       "_model_module_version": "^1.0.2",
       "_view_module_version": "^1.0.2",
       "data": {
        "id": "4"
       },
       "position": {
        "x": 581.8837658973102,
        "y": 226.29636331207152
       }
      }
     },
     "6acfdb0cbffa4ba6b802e39cc147a662": {
      "model_module": "jupyter-cytoscape",
      "model_module_version": "^1.0.2",
      "model_name": "NodeModel",
      "state": {
       "_model_module_version": "^1.0.2",
       "_view_module_version": "^1.0.2",
       "data": {
        "id": "<__main__.Node object at 0x7f7ee6a786d0>"
       },
       "position": {
        "x": 557,
        "y": 200
       }
      }
     },
     "6e186654bec74635a5c11d8286d13a67": {
      "model_module": "jupyter-cytoscape",
      "model_module_version": "^1.0.2",
      "model_name": "EdgeModel",
      "state": {
       "_model_module_version": "^1.0.2",
       "_view_module_version": "^1.0.2",
       "data": {
        "id": "9215e3a7-0840-44d9-96ca-3b4e9fe804c4",
        "source": "node 1",
        "target": "node 2"
       },
       "position": {
        "x": 0,
        "y": 0
       }
      }
     },
     "711e649c27c64d9ba4e7724a6cde5b8f": {
      "model_module": "jupyter-cytoscape",
      "model_module_version": "^1.0.2",
      "model_name": "CytoscapeModel",
      "state": {
       "_interaction_handlers": {},
       "_model_module_version": "^1.0.2",
       "_view_module_version": "^1.0.2",
       "auto_ungrabify": false,
       "autolock": false,
       "cytoscape_layout": {
        "name": "cola"
       },
       "cytoscape_style": [
        {
         "css": {
          "background-color": "#11479e"
         },
         "selector": "node"
        },
        {
         "css": {
          "background-opacity": 0.333
         },
         "selector": "node:parent"
        },
        {
         "selector": "edge",
         "style": {
          "line-color": "#9dbaea",
          "width": 4
         }
        },
        {
         "selector": "edge.directed",
         "style": {
          "curve-style": "bezier",
          "target-arrow-color": "#9dbaea",
          "target-arrow-shape": "triangle"
         }
        }
       ],
       "desktop_tap_threshold": 4,
       "graph": "IPY_MODEL_f6eae300758241fe97a61c8c65c84573",
       "headless": false,
       "hide_edges_on_viewport": false,
       "layout": "IPY_MODEL_a298c5b6a71246379e225d920bb3fea9",
       "max_zoom": 1e+50,
       "min_zoom": 1e-50,
       "motion_blur": false,
       "motion_blur_opacity": 0.2,
       "panning_enabled": true,
       "pixel_ratio": "auto",
       "rendered_position": {
        "renderedPosition": {
         "x": 100,
         "y": 100
        }
       },
       "selection_type": "single",
       "style_enabled": true,
       "texture_on_viewport": false,
       "tooltip_source": "tooltip",
       "touch_tap_threshold": 8,
       "user_panning_enabled": true,
       "user_zooming_enabled": true,
       "wheel_sensitivity": 1,
       "zoom": 2,
       "zooming_enabled": true
      }
     },
     "7516a94eeb594e378ea3b9dd4af2f734": {
      "model_module": "jupyter-cytoscape",
      "model_module_version": "^1.0.2",
      "model_name": "EdgeModel",
      "state": {
       "_model_module_version": "^1.0.2",
       "_view_module_version": "^1.0.2",
       "classes": " directed ",
       "data": {
        "source": "1",
        "target": "3"
       }
      }
     },
     "7ad3487b5f944aa6b133827a2a307efb": {
      "model_module": "jupyter-cytoscape",
      "model_module_version": "^1.0.2",
      "model_name": "NodeModel",
      "state": {
       "_model_module_version": "^1.0.2",
       "_view_module_version": "^1.0.2",
       "data": {
        "id": "(0, 1)"
       },
       "position": {
        "x": 557,
        "y": 200
       }
      }
     },
     "7dadcec69e40457580dad3e47d747378": {
      "model_module": "jupyter-cytoscape",
      "model_module_version": "^1.0.2",
      "model_name": "EdgeModel",
      "state": {
       "_model_module_version": "^1.0.2",
       "_view_module_version": "^1.0.2",
       "data": {
        "id": "9d4aeb77-fe44-4f39-a534-aafa55500c10",
        "source": "separate node 1",
        "target": "separate node 2"
       },
       "position": {
        "x": 0,
        "y": 0
       }
      }
     },
     "86473dd951fb4d789138817b2164522b": {
      "model_module": "jupyter-cytoscape",
      "model_module_version": "^1.0.2",
      "model_name": "GraphModel",
      "state": {
       "_model_module_version": "^1.0.2",
       "_view_module": "jupyter-cytoscape",
       "_view_module_version": "^1.0.2"
      }
     },
     "87376c913dcc40f1878a9b0afd758be6": {
      "model_module": "jupyter-cytoscape",
      "model_module_version": "^1.0.2",
      "model_name": "EdgeModel",
      "state": {
       "_model_module_version": "^1.0.2",
       "_view_module_version": "^1.0.2",
       "data": {
        "source": "3",
        "target": "4"
       }
      }
     },
     "88ead50c3b3442159860e77a54b742c8": {
      "model_module": "jupyter-cytoscape",
      "model_module_version": "^1.0.2",
      "model_name": "EdgeModel",
      "state": {
       "_model_module_version": "^1.0.2",
       "_view_module_version": "^1.0.2",
       "classes": "directed",
       "data": {
        "source": "0",
        "target": "2"
       }
      }
     },
     "8923accb5e914043a0774674eb1b7aa8": {
      "model_module": "jupyter-cytoscape",
      "model_module_version": "^1.0.2",
      "model_name": "NodeModel",
      "state": {
       "_model_module_version": "^1.0.2",
       "_view_module_version": "^1.0.2",
       "data": {
        "id": "2"
       },
       "position": {
        "x": 511.17823346679415,
        "y": 211.06318987239513
       }
      }
     },
     "89531f6462414be09bf8ac02d8871b1a": {
      "model_module": "@jupyter-widgets/base",
      "model_module_version": "1.2.0",
      "model_name": "LayoutModel",
      "state": {}
     },
     "8975b15f729a4cd7b06cfc3b4c79ea88": {
      "model_module": "jupyter-cytoscape",
      "model_module_version": "^1.0.2",
      "model_name": "NodeModel",
      "state": {
       "_model_module_version": "^1.0.2",
       "_view_module_version": "^1.0.2",
       "data": {
        "id": "frozenset({0, 2})"
       },
       "position": {
        "x": 457.95259474512005,
        "y": 213.7699496104954
       }
      }
     },
     "8a56896a9f88407bb5e87d02e781780e": {
      "model_module": "jupyter-cytoscape",
      "model_module_version": "^1.0.2",
      "model_name": "NodeModel",
      "state": {
       "_model_module_version": "^1.0.2",
       "_view_module_version": "^1.0.2",
       "data": {
        "id": "separate node 2"
       },
       "position": {
        "x": 391.15873183858344,
        "y": 291.6961171481714
       }
      }
     },
     "8f2bf45e499940f8b598751ab90093d4": {
      "model_module": "jupyter-cytoscape",
      "model_module_version": "^1.0.2",
      "model_name": "EdgeModel",
      "state": {
       "_model_module_version": "^1.0.2",
       "_view_module_version": "^1.0.2",
       "data": {
        "id": "b7df1488-0018-40f1-a8b3-03704680878c",
        "source": "1",
        "target": "4"
       },
       "position": {
        "x": 0,
        "y": 0
       }
      }
     },
     "9c2645cbae4942228be9c61f01fd190c": {
      "model_module": "jupyter-cytoscape",
      "model_module_version": "^1.0.2",
      "model_name": "EdgeModel",
      "state": {
       "_model_module_version": "^1.0.2",
       "_view_module_version": "^1.0.2",
       "data": {
        "id": "9d540c65-3a2d-46f8-a7e1-00fe57641ede",
        "source": "1",
        "target": "2"
       },
       "position": {
        "x": 0,
        "y": 0
       }
      }
     },
     "9c5873e69a864585bf36d8bfde171a65": {
      "model_module": "jupyter-cytoscape",
      "model_module_version": "^1.0.2",
      "model_name": "EdgeModel",
      "state": {
       "_model_module_version": "^1.0.2",
       "_view_module_version": "^1.0.2",
       "classes": " directed ",
       "data": {
        "source": "1",
        "target": "4"
       }
      }
     },
     "9cad8f88e60947918a6427b376113dc6": {
      "model_module": "jupyter-cytoscape",
      "model_module_version": "^1.0.2",
      "model_name": "CytoscapeModel",
      "state": {
       "_interaction_handlers": {},
       "_model_module_version": "^1.0.2",
       "_view_module_version": "^1.0.2",
       "auto_ungrabify": false,
       "autolock": false,
       "cytoscape_layout": {
        "name": "cola"
       },
       "cytoscape_style": [
        {
         "css": {
          "background-color": "#11479e"
         },
         "selector": "node"
        },
        {
         "css": {
          "background-opacity": 0.333
         },
         "selector": "node:parent"
        },
        {
         "selector": "edge",
         "style": {
          "line-color": "#9dbaea",
          "width": 4
         }
        },
        {
         "selector": "edge.directed",
         "style": {
          "curve-style": "bezier",
          "target-arrow-color": "#9dbaea",
          "target-arrow-shape": "triangle"
         }
        }
       ],
       "desktop_tap_threshold": 4,
       "graph": "IPY_MODEL_1c403ca0bca3415bb450ff53bbd557d2",
       "headless": false,
       "hide_edges_on_viewport": false,
       "layout": "IPY_MODEL_f261842c45504edea90e5aae1409c44f",
       "max_zoom": 1e+50,
       "min_zoom": 1e-50,
       "motion_blur": false,
       "motion_blur_opacity": 0.2,
       "panning_enabled": true,
       "pixel_ratio": "auto",
       "rendered_position": {
        "renderedPosition": {
         "x": 100,
         "y": 100
        }
       },
       "selection_type": "single",
       "style_enabled": true,
       "texture_on_viewport": false,
       "tooltip_source": "tooltip",
       "touch_tap_threshold": 8,
       "user_panning_enabled": true,
       "user_zooming_enabled": true,
       "wheel_sensitivity": 1,
       "zoom": 2,
       "zooming_enabled": true
      }
     },
     "9ebe6648e867468ca97bc578ce984294": {
      "model_module": "jupyter-cytoscape",
      "model_module_version": "^1.0.2",
      "model_name": "NodeModel",
      "state": {
       "_model_module_version": "^1.0.2",
       "_view_module_version": "^1.0.2",
       "data": {
        "id": "<__main__.Node object at 0x7f7ee6a784f0>"
       },
       "position": {
        "x": 457.95259474512005,
        "y": 213.7699496104954
       }
      }
     },
     "a298c5b6a71246379e225d920bb3fea9": {
      "model_module": "@jupyter-widgets/base",
      "model_module_version": "1.2.0",
      "model_name": "LayoutModel",
      "state": {}
     },
     "a6509bb452834625b048454c9ab2525a": {
      "model_module": "jupyter-cytoscape",
      "model_module_version": "^1.0.2",
      "model_name": "CytoscapeModel",
      "state": {
       "_interaction_handlers": {},
       "_model_module_version": "^1.0.2",
       "_view_module_version": "^1.0.2",
       "auto_ungrabify": false,
       "autolock": false,
       "cytoscape_layout": {
        "name": "cola"
       },
       "cytoscape_style": [
        {
         "css": {
          "background-color": "#11479e"
         },
         "selector": "node"
        },
        {
         "css": {
          "background-opacity": 0.333
         },
         "selector": "node:parent"
        },
        {
         "selector": "edge",
         "style": {
          "line-color": "#9dbaea",
          "width": 4
         }
        },
        {
         "selector": "edge.directed",
         "style": {
          "curve-style": "bezier",
          "target-arrow-color": "#9dbaea",
          "target-arrow-shape": "triangle"
         }
        }
       ],
       "desktop_tap_threshold": 4,
       "graph": "IPY_MODEL_f4567feb88ea48858b1edbcb202da45a",
       "headless": false,
       "hide_edges_on_viewport": false,
       "layout": "IPY_MODEL_539805cb430f4be5bb81924ac58e333d",
       "max_zoom": 1e+50,
       "min_zoom": 1e-50,
       "motion_blur": false,
       "motion_blur_opacity": 0.2,
       "panning_enabled": true,
       "pixel_ratio": "auto",
       "rendered_position": {
        "renderedPosition": {
         "x": 100,
         "y": 100
        }
       },
       "selection_type": "single",
       "style_enabled": true,
       "texture_on_viewport": false,
       "tooltip_source": "tooltip",
       "touch_tap_threshold": 8,
       "user_panning_enabled": true,
       "user_zooming_enabled": true,
       "wheel_sensitivity": 1,
       "zoom": 2,
       "zooming_enabled": true
      }
     },
     "a7ff6484b2d148fdb02f15afbd2a05e7": {
      "model_module": "jupyter-cytoscape",
      "model_module_version": "^1.0.2",
      "model_name": "EdgeModel",
      "state": {
       "_model_module_version": "^1.0.2",
       "_view_module_version": "^1.0.2",
       "classes": " directed ",
       "data": {
        "source": "2",
        "target": "4"
       }
      }
     },
     "bbcbe06f002c44b0a53dc7a831296fba": {
      "model_module": "jupyter-cytoscape",
      "model_module_version": "^1.0.2",
      "model_name": "EdgeModel",
      "state": {
       "_model_module_version": "^1.0.2",
       "_view_module_version": "^1.0.2",
       "data": {
        "id": "289fba53-15de-4ad7-bc17-fc3e10f9ea6f",
        "source": "0",
        "target": "3"
       },
       "position": {
        "x": 0,
        "y": 0
       }
      }
     },
     "be783ca4562c4809922bf6de675ca75a": {
      "model_module": "jupyter-cytoscape",
      "model_module_version": "^1.0.2",
      "model_name": "NodeModel",
      "state": {
       "_model_module_version": "^1.0.2",
       "_view_module_version": "^1.0.2",
       "data": {
        "id": "0"
       }
      }
     },
     "c0884231862c4c849bd93a18a622b95f": {
      "model_module": "jupyter-cytoscape",
      "model_module_version": "^1.0.2",
      "model_name": "NodeModel",
      "state": {
       "_model_module_version": "^1.0.2",
       "_view_module_version": "^1.0.2",
       "data": {
        "id": "4"
       }
      }
     },
     "c136f464ef0f43cd89f8d29a822570a3": {
      "model_module": "jupyter-cytoscape",
      "model_module_version": "^1.0.2",
      "model_name": "GraphModel",
      "state": {
       "_model_module_version": "^1.0.2",
       "_view_module": "jupyter-cytoscape",
       "_view_module_version": "^1.0.2"
      }
     },
     "c2f764e446af44a8847661633ceb480e": {
      "model_module": "jupyter-cytoscape",
      "model_module_version": "^1.0.2",
      "model_name": "EdgeModel",
      "state": {
       "_model_module_version": "^1.0.2",
       "_view_module_version": "^1.0.2",
       "data": {
        "source": "1",
        "target": "3"
       }
      }
     },
     "c6270aea83d444b6b70b400e75cb2f77": {
      "model_module": "@jupyter-widgets/base",
      "model_module_version": "1.2.0",
      "model_name": "LayoutModel",
      "state": {}
     },
     "cb76e12552694eb385e1f1826da4f1d8": {
      "model_module": "jupyter-cytoscape",
      "model_module_version": "^1.0.2",
      "model_name": "EdgeModel",
      "state": {
       "_model_module_version": "^1.0.2",
       "_view_module_version": "^1.0.2",
       "data": {
        "id": "12fa17db-783b-49e4-8ebd-63b640848baa",
        "source": "1",
        "target": "3"
       },
       "position": {
        "x": 0,
        "y": 0
       }
      }
     },
     "cc25681b3b4542f4a4f2a2c9b3f7979d": {
      "model_module": "jupyter-cytoscape",
      "model_module_version": "^1.0.2",
      "model_name": "EdgeModel",
      "state": {
       "_model_module_version": "^1.0.2",
       "_view_module_version": "^1.0.2",
       "classes": "directed",
       "data": {
        "source": "2",
        "target": "4"
       }
      }
     },
     "d131e445af9c4e0886a17d8feb7e0606": {
      "model_module": "jupyter-cytoscape",
      "model_module_version": "^1.0.2",
      "model_name": "CytoscapeModel",
      "state": {
       "_interaction_handlers": {},
       "_model_module_version": "^1.0.2",
       "_view_module_version": "^1.0.2",
       "auto_ungrabify": false,
       "autolock": false,
       "cytoscape_layout": {
        "name": "cola"
       },
       "cytoscape_style": [
        {
         "css": {
          "background-color": "#11479e"
         },
         "selector": "node"
        },
        {
         "css": {
          "background-opacity": 0.333
         },
         "selector": "node:parent"
        },
        {
         "selector": "edge",
         "style": {
          "line-color": "#9dbaea",
          "width": 4
         }
        },
        {
         "selector": "edge.directed",
         "style": {
          "curve-style": "bezier",
          "target-arrow-color": "#9dbaea",
          "target-arrow-shape": "triangle"
         }
        }
       ],
       "desktop_tap_threshold": 4,
       "graph": "IPY_MODEL_86473dd951fb4d789138817b2164522b",
       "headless": false,
       "hide_edges_on_viewport": false,
       "layout": "IPY_MODEL_89531f6462414be09bf8ac02d8871b1a",
       "max_zoom": 1e+50,
       "min_zoom": 1e-50,
       "motion_blur": false,
       "motion_blur_opacity": 0.2,
       "panning_enabled": true,
       "pixel_ratio": "auto",
       "rendered_position": {
        "renderedPosition": {
         "x": 100,
         "y": 100
        }
       },
       "selection_type": "single",
       "style_enabled": true,
       "texture_on_viewport": false,
       "tooltip_source": "tooltip",
       "touch_tap_threshold": 8,
       "user_panning_enabled": true,
       "user_zooming_enabled": true,
       "wheel_sensitivity": 1,
       "zoom": 2,
       "zooming_enabled": true
      }
     },
     "d5180681ac8e4b57816a21aacf3fd2e6": {
      "model_module": "jupyter-cytoscape",
      "model_module_version": "^1.0.2",
      "model_name": "GraphModel",
      "state": {
       "_model_module_version": "^1.0.2",
       "_view_module": "jupyter-cytoscape",
       "_view_module_version": "^1.0.2"
      }
     },
     "d64d52ec81b547068f12f94608bc7373": {
      "model_module": "jupyter-cytoscape",
      "model_module_version": "^1.0.2",
      "model_name": "NodeModel",
      "state": {
       "_model_module_version": "^1.0.2",
       "_view_module_version": "^1.0.2",
       "data": {
        "id": "(0, 2)"
       },
       "position": {
        "x": 457.95259474512005,
        "y": 213.7699496104954
       }
      }
     },
     "e1b30cc4b9994618a3615e68f1344b63": {
      "model_module": "jupyter-cytoscape",
      "model_module_version": "^1.0.2",
      "model_name": "GraphModel",
      "state": {
       "_model_module_version": "^1.0.2",
       "_view_module": "jupyter-cytoscape",
       "_view_module_version": "^1.0.2"
      }
     },
     "e57090573b354bef93c7439f802c584b": {
      "model_module": "jupyter-cytoscape",
      "model_module_version": "^1.0.2",
      "model_name": "EdgeModel",
      "state": {
       "_model_module_version": "^1.0.2",
       "_view_module_version": "^1.0.2",
       "data": {
        "id": "6e503b9f-701a-4b37-a544-2aba33ab5d69",
        "source": "2",
        "target": "4"
       },
       "position": {
        "x": 0,
        "y": 0
       }
      }
     },
     "e7c485037f7443d1a390c8846593c1bf": {
      "model_module": "jupyter-cytoscape",
      "model_module_version": "^1.0.2",
      "model_name": "EdgeModel",
      "state": {
       "_model_module_version": "^1.0.2",
       "_view_module_version": "^1.0.2",
       "data": {
        "id": "855eda83-71ff-4dc8-8394-564ab0ae6a36",
        "source": "(0, 1)",
        "target": "(0, 2)"
       },
       "position": {
        "x": 0,
        "y": 0
       }
      }
     },
     "e885cb3c059a4fc5b39fb9527d13288c": {
      "model_module": "jupyter-cytoscape",
      "model_module_version": "^1.0.2",
      "model_name": "GraphModel",
      "state": {
       "_model_module_version": "^1.0.2",
       "_view_module": "jupyter-cytoscape",
       "_view_module_version": "^1.0.2",
       "edges": [
        "IPY_MODEL_6e186654bec74635a5c11d8286d13a67"
       ],
       "nodes": [
        "IPY_MODEL_4134fae2a29d4902bc6c9f5c27da49e0",
        "IPY_MODEL_1a8ca263dd174ca1ac1d576d8bd1d7ec"
       ]
      }
     },
     "ee0af89233854f16a15b4f1429ebbf4c": {
      "model_module": "jupyter-cytoscape",
      "model_module_version": "^1.0.2",
      "model_name": "EdgeModel",
      "state": {
       "_model_module_version": "^1.0.2",
       "_view_module_version": "^1.0.2",
       "classes": " directed ",
       "data": {
        "source": "2",
        "target": "3"
       }
      }
     },
     "ef8705341ce14dc096f759dcd944df8c": {
      "model_module": "jupyter-cytoscape",
      "model_module_version": "^1.0.2",
      "model_name": "EdgeModel",
      "state": {
       "_model_module_version": "^1.0.2",
       "_view_module_version": "^1.0.2",
       "classes": "directed",
       "data": {
        "source": "0",
        "target": "1"
       }
      }
     },
     "f179a2758fbf47d3b1807868d02a762b": {
      "model_module": "jupyter-cytoscape",
      "model_module_version": "^1.0.2",
      "model_name": "EdgeModel",
      "state": {
       "_model_module_version": "^1.0.2",
       "_view_module_version": "^1.0.2",
       "classes": " directed ",
       "data": {
        "source": "1",
        "target": "2"
       }
      }
     },
     "f261842c45504edea90e5aae1409c44f": {
      "model_module": "@jupyter-widgets/base",
      "model_module_version": "1.2.0",
      "model_name": "LayoutModel",
      "state": {}
     },
     "f35442cf647541f4b8378684342a5423": {
      "model_module": "jupyter-cytoscape",
      "model_module_version": "^1.0.2",
      "model_name": "EdgeModel",
      "state": {
       "_model_module_version": "^1.0.2",
       "_view_module_version": "^1.0.2",
       "classes": " directed ",
       "data": {
        "source": "0",
        "target": "2"
       }
      }
     },
     "f4567feb88ea48858b1edbcb202da45a": {
      "model_module": "jupyter-cytoscape",
      "model_module_version": "^1.0.2",
      "model_name": "GraphModel",
      "state": {
       "_model_module_version": "^1.0.2",
       "_view_module": "jupyter-cytoscape",
       "_view_module_version": "^1.0.2",
       "edges": [
        "IPY_MODEL_f5c7f83d941a40618c467e21f2fde934",
        "IPY_MODEL_3871b971b3dd4ffbaf53432b141c2cb4",
        "IPY_MODEL_bbcbe06f002c44b0a53dc7a831296fba",
        "IPY_MODEL_1b02697cba92414b92f418e20da40ade",
        "IPY_MODEL_9c2645cbae4942228be9c61f01fd190c",
        "IPY_MODEL_cb76e12552694eb385e1f1826da4f1d8",
        "IPY_MODEL_8f2bf45e499940f8b598751ab90093d4",
        "IPY_MODEL_613f54201b6c49d09c80bb8d9ccd3a64",
        "IPY_MODEL_e57090573b354bef93c7439f802c584b",
        "IPY_MODEL_50cca0b063324e46b5ab70013d46c493",
        "IPY_MODEL_7dadcec69e40457580dad3e47d747378"
       ],
       "nodes": [
        "IPY_MODEL_586824c75cd345e99d6ee96fda21bf81",
        "IPY_MODEL_410b8e83c0844691b82c4dc6b4c6dd4e",
        "IPY_MODEL_8923accb5e914043a0774674eb1b7aa8",
        "IPY_MODEL_4c6600fdb5e94037b6dd70cbe3ba32d8",
        "IPY_MODEL_6ab2faf24b2146609b5ad91f2c2cccc4",
        "IPY_MODEL_1542e717117e461982e253d55e70a99f",
        "IPY_MODEL_8a56896a9f88407bb5e87d02e781780e"
       ]
      }
     },
     "f5c7f83d941a40618c467e21f2fde934": {
      "model_module": "jupyter-cytoscape",
      "model_module_version": "^1.0.2",
      "model_name": "EdgeModel",
      "state": {
       "_model_module_version": "^1.0.2",
       "_view_module_version": "^1.0.2",
       "data": {
        "id": "0ce8b5b9-116f-410c-8339-5df4895c4462",
        "source": "0",
        "target": "1"
       },
       "position": {
        "x": 0,
        "y": 0
       }
      }
     },
     "f68701ed841246f3a1c4bd32adf0b2de": {
      "model_module": "@jupyter-widgets/base",
      "model_module_version": "1.2.0",
      "model_name": "LayoutModel",
      "state": {}
     },
     "f6eae300758241fe97a61c8c65c84573": {
      "model_module": "jupyter-cytoscape",
      "model_module_version": "^1.0.2",
      "model_name": "GraphModel",
      "state": {
       "_model_module_version": "^1.0.2",
       "_view_module": "jupyter-cytoscape",
       "_view_module_version": "^1.0.2"
      }
     },
     "fab72705ffdb442da6a58fca10762cc1": {
      "model_module": "jupyter-cytoscape",
      "model_module_version": "^1.0.2",
      "model_name": "NodeModel",
      "state": {
       "_model_module_version": "^1.0.2",
       "_view_module_version": "^1.0.2",
       "data": {
        "id": "frozenset({0, 1})"
       },
       "position": {
        "x": 557,
        "y": 200
       }
      }
     }
    },
    "version_major": 2,
    "version_minor": 0
   }
  }
 },
 "nbformat": 4,
 "nbformat_minor": 4
}
